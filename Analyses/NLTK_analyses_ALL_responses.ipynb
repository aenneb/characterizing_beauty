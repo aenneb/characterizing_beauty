{
 "cells": [
  {
   "cell_type": "markdown",
   "metadata": {},
   "source": [
    "# NLTK analyses of all non-excluded beauty memory descriptions across experiments\n",
    "Useful reseource for basic operations: https://www.nltk.org/book/\n",
    "\n",
    "For other processing steps: https://chrisalbon.com/machine_learning/preprocessing_text/remove_stop_words/"
   ]
  },
  {
   "cell_type": "code",
   "execution_count": 11,
   "metadata": {},
   "outputs": [],
   "source": [
    "import nltk, re, pprint\n",
    "from nltk import word_tokenize"
   ]
  },
  {
   "cell_type": "markdown",
   "metadata": {},
   "source": [
    "Read the text"
   ]
  },
  {
   "cell_type": "code",
   "execution_count": 12,
   "metadata": {},
   "outputs": [],
   "source": [
    "f = open('all_descriptions_men.txt', 'r')\n",
    "raw = f.read()"
   ]
  },
  {
   "cell_type": "markdown",
   "metadata": {},
   "source": [
    "Tokenize, convert to text, set to lowercase, grab total vocabulary"
   ]
  },
  {
   "cell_type": "code",
   "execution_count": 13,
   "metadata": {},
   "outputs": [],
   "source": [
    "tokens = word_tokenize(raw)\n",
    "text = nltk.Text(tokens)\n",
    "\n",
    "sentences = nltk.sent_tokenize(raw)\n",
    "sentences = [nltk.word_tokenize(sent) for sent in sentences]\n",
    "sentences = [nltk.pos_tag(sent) for sent in sentences]\n",
    "\n",
    "words = [w.lower() for w in tokens]\n",
    "vocab = sorted(set(words))"
   ]
  },
  {
   "cell_type": "markdown",
   "metadata": {},
   "source": [
    "Clean the text"
   ]
  },
  {
   "cell_type": "code",
   "execution_count": 14,
   "metadata": {},
   "outputs": [],
   "source": [
    "from nltk.corpus import stopwords\n",
    "stop_words = stopwords.words('english')\n",
    "punctuation = ['.',',','!',';','(',')']\n",
    "clean_text = nltk.Text([word for word in words if word not in stop_words and word not in punctuation])"
   ]
  },
  {
   "cell_type": "markdown",
   "metadata": {},
   "source": [
    "## Look for patterns, keywords, bigrams\n",
    "It seems like there is a pre-built package that extracts key words/phrases from a text. https://pypi.org/project/rake-nltk/. However, I do not find that their extracted ranking makes any sense. It merely seems to capture alphabetical order?\n",
    "\n",
    "I think, we can for now just get away with a frequency count, discounting stop words.\n",
    "\n",
    "Let's look at similar words, and co-occurring words. \n",
    "\n",
    "*Note:* It seems like we do not have enough data for finding similar words once we stripped off stopwords and the like. "
   ]
  },
  {
   "cell_type": "code",
   "execution_count": 15,
   "metadata": {},
   "outputs": [
    {
     "name": "stdout",
     "output_type": "stream",
     "text": [
      "happy there beauty peaceful the that great pretty good warm calm reds\n",
      "setting amazing when nice younger bright breathtaking one\n",
      "beautiful time lake it experience me air moment beach way mountain\n",
      "grass wind nature stars snow distance city day mountains\n"
     ]
    }
   ],
   "source": [
    "# find words that are similar to both beauty and beautiful\n",
    "# logic: what applies to both gets rid of random co-occurrences more so than just the function alone\n",
    "# NOTE that .similar() and .similar_words do produce different outputs, so it is useful to look at both\n",
    "# However, we can only autmatically look at the overlap between outputs for beauty and beautiful using similar_words\n",
    "text.similar('beautiful')\n",
    "text.similar('beauty')"
   ]
  },
  {
   "cell_type": "markdown",
   "metadata": {},
   "source": [
    "Here, I was trying to find the overlapping portion of the similar words only, but that seems to fail and not be very interesting"
   ]
  },
  {
   "cell_type": "code",
   "execution_count": 16,
   "metadata": {},
   "outputs": [],
   "source": [
    "sim_beautiful = text._word_context_index.similar_words(\"beautiful\")\n",
    "sim_beauty = text._word_context_index.similar_words(\"beauty\")\n",
    "#sim_beaut = [word for word in sim_beautiful if word in sim_beauty]\n",
    "#print(sim_beaut)"
   ]
  },
  {
   "cell_type": "code",
   "execution_count": 17,
   "metadata": {},
   "outputs": [
    {
     "name": "stdout",
     "output_type": "stream",
     "text": [
      "[[['when' 'top']]\n",
      "\n",
      " [['peaceful' 'smell']]\n",
      "\n",
      " [['beauty' 'end']]\n",
      "\n",
      " [['great' 'experience']]\n",
      "\n",
      " [['happy' 'middle']]\n",
      "\n",
      " [['amazing' 'sound']]\n",
      "\n",
      " [['born' 'sounds']]\n",
      "\n",
      " [['dramatic' 'scent']]\n",
      "\n",
      " [['transforming' 'edge']]\n",
      "\n",
      " [['spiritual' 'bottom']]\n",
      "\n",
      " [['warm' 'presence']]\n",
      "\n",
      " [['there' 'rest']]\n",
      "\n",
      " [['that' 'birth']]\n",
      "\n",
      " [['perfect' 'beautiful']]\n",
      "\n",
      " [['out' 'mountains']]\n",
      "\n",
      " [['calm' 'day']]\n",
      "\n",
      " [['blue' 'city']]\n",
      "\n",
      " [['clean' 'moment']]\n",
      "\n",
      " [['proud' 'mother']]\n",
      "\n",
      " [['if' 'side']]]\n"
     ]
    }
   ],
   "source": [
    "import numpy as np\n",
    "print(np.transpose([[sim_beautiful],[sim_beauty]]))"
   ]
  },
  {
   "cell_type": "code",
   "execution_count": 18,
   "metadata": {},
   "outputs": [
    {
     "data": {
      "text/plain": [
       "[('beautiful', 131),\n",
       " ('day', 82),\n",
       " ('time', 81),\n",
       " ('like', 75),\n",
       " ('beauty', 66),\n",
       " ('felt', 60),\n",
       " ('experience', 58),\n",
       " ('one', 58),\n",
       " ('see', 56),\n",
       " ('saw', 53),\n",
       " (\"'s\", 51),\n",
       " ('remember', 49),\n",
       " ('life', 49),\n",
       " ('could', 48),\n",
       " ('went', 45)]"
      ]
     },
     "execution_count": 18,
     "metadata": {},
     "output_type": "execute_result"
    }
   ],
   "source": [
    "from nltk import FreqDist\n",
    "\n",
    "fdist_words = FreqDist(clean_text)\n",
    "fdist_words.most_common(15)"
   ]
  },
  {
   "cell_type": "code",
   "execution_count": 19,
   "metadata": {},
   "outputs": [
    {
     "data": {
      "text/plain": [
       "[(('first', 'time'), 25),\n",
       " (('could', 'see'), 17),\n",
       " (('beauty', 'experience'), 14),\n",
       " (('felt', 'like'), 12),\n",
       " (('beautiful', 'experience'), 11),\n",
       " (('ever', 'seen'), 9),\n",
       " (('looked', 'like'), 7),\n",
       " (('one', 'day'), 7),\n",
       " (('years', 'ago'), 7),\n",
       " (('sun', 'setting'), 6)]"
      ]
     },
     "execution_count": 19,
     "metadata": {},
     "output_type": "execute_result"
    }
   ],
   "source": [
    "# bigram freq - use this rather than mere 'collocations' because here we do get a proper frequency count.\n",
    "bigrm = nltk.bigrams(clean_text)\n",
    "fdist_bigrams = FreqDist(bigrm)\n",
    "fdist_bigrams.most_common(10)"
   ]
  },
  {
   "cell_type": "markdown",
   "metadata": {},
   "source": [
    "## use empath package for LIWC like analyses"
   ]
  },
  {
   "cell_type": "code",
   "execution_count": 20,
   "metadata": {},
   "outputs": [
    {
     "data": {
      "text/plain": [
       "{'help': 0.0010217574227671595,\n",
       " 'office': 0.0007813439115278278,\n",
       " 'dance': 0.001322274311816324,\n",
       " 'money': 0.000661137155908162,\n",
       " 'wedding': 0.005950234403173459,\n",
       " 'domestic_work': 0.002584445245822815,\n",
       " 'sleep': 0.002824858757062147,\n",
       " 'medical_emergency': 0.0008414472893376608,\n",
       " 'cold': 0.006010337780983291,\n",
       " 'hate': 0.001322274311816324,\n",
       " 'cheerfulness': 0.0023440317345834838,\n",
       " 'aggression': 0.0003606202668589975,\n",
       " 'occupation': 0.0007813439115278278,\n",
       " 'envy': 0.00018031013342949875,\n",
       " 'anticipation': 0.0008414472893376608,\n",
       " 'family': 0.005649717514124294,\n",
       " 'vacation': 0.008354369515566775,\n",
       " 'crime': 0.0005409304002884963,\n",
       " 'attractive': 0.013282846495973074,\n",
       " 'masculine': 0.000721240533717995,\n",
       " 'prison': 0.00018031013342949875,\n",
       " 'health': 0.0003606202668589975,\n",
       " 'pride': 0.0007813439115278278,\n",
       " 'dispute': 0.0004808270224786633,\n",
       " 'nervousness': 0.0031854790239211443,\n",
       " 'government': 0.00018031013342949875,\n",
       " 'weakness': 0.0004207236446688304,\n",
       " 'horror': 0.00030051688904916455,\n",
       " 'swearing_terms': 0.0004207236446688304,\n",
       " 'leisure': 0.002824858757062147,\n",
       " 'suffering': 0.0019233080899146533,\n",
       " 'royalty': 0.0004207236446688304,\n",
       " 'wealthy': 0.0005409304002884963,\n",
       " 'tourism': 0.002584445245822815,\n",
       " 'furniture': 0.0011419641783868254,\n",
       " 'school': 0.0024642384902031494,\n",
       " 'magic': 0.0005409304002884963,\n",
       " 'beach': 0.00805385262651761,\n",
       " 'journalism': 0.0004808270224786633,\n",
       " 'morning': 0.0025243418680129825,\n",
       " 'banking': 0.0003606202668589975,\n",
       " 'social_media': 0.0015025844452458228,\n",
       " 'exercise': 0.0015025844452458228,\n",
       " 'night': 0.002584445245822815,\n",
       " 'kill': 0.00018031013342949875,\n",
       " 'blue_collar_job': 0.00030051688904916455,\n",
       " 'art': 0.002584445245822815,\n",
       " 'ridicule': 6.0103377809832915e-05,\n",
       " 'play': 0.0023440317345834838,\n",
       " 'computer': 0.0005409304002884963,\n",
       " 'college': 0.0018632047121048202,\n",
       " 'optimism': 0.005469407380694795,\n",
       " 'stealing': 0.00030051688904916455,\n",
       " 'real_estate': 0.00144248106743599,\n",
       " 'home': 0.0038466161798293066,\n",
       " 'divine': 0.000661137155908162,\n",
       " 'sexual': 0.0009015506671474937,\n",
       " 'fear': 0.002043514845534319,\n",
       " 'irritability': 0.0,\n",
       " 'superhero': 0.00018031013342949875,\n",
       " 'business': 0.0012621709340064912,\n",
       " 'driving': 0.0018031013342949874,\n",
       " 'pet': 0.00144248106743599,\n",
       " 'childish': 0.004267339824498137,\n",
       " 'cooking': 0.0009015506671474937,\n",
       " 'exasperation': 6.0103377809832915e-05,\n",
       " 'religion': 0.0004808270224786633,\n",
       " 'hipster': 0.001322274311816324,\n",
       " 'internet': 0.0004207236446688304,\n",
       " 'surprise': 0.0016828945786753215,\n",
       " 'reading': 0.0012020675561966582,\n",
       " 'worship': 0.0005409304002884963,\n",
       " 'leader': 0.0005409304002884963,\n",
       " 'independence': 0.00018031013342949875,\n",
       " 'movement': 0.0022839283567736507,\n",
       " 'body': 0.003906719557639139,\n",
       " 'noise': 0.0024642384902031494,\n",
       " 'eating': 0.0010818608005769925,\n",
       " 'medieval': 0.00030051688904916455,\n",
       " 'zest': 0.0016227912008654887,\n",
       " 'confusion': 0.0008414472893376608,\n",
       " 'water': 0.006130544536602957,\n",
       " 'sports': 0.0030652722683014787,\n",
       " 'death': 0.0032455824017309774,\n",
       " 'healing': 0.0011419641783868254,\n",
       " 'legend': 0.0004808270224786633,\n",
       " 'heroic': 0.0009015506671474937,\n",
       " 'celebration': 0.006070441158793124,\n",
       " 'restaurant': 0.0011419641783868254,\n",
       " 'violence': 0.0031854790239211443,\n",
       " 'programming': 6.0103377809832915e-05,\n",
       " 'dominant_heirarchical': 0.00030051688904916455,\n",
       " 'military': 0.00018031013342949875,\n",
       " 'neglect': 0.00012020675561966583,\n",
       " 'swimming': 0.004808270224786633,\n",
       " 'exotic': 0.0019233080899146533,\n",
       " 'love': 0.008835196538045438,\n",
       " 'hiking': 0.005289097247265296,\n",
       " 'communication': 0.00288496213487198,\n",
       " 'hearing': 0.003606202668589975,\n",
       " 'order': 0.000661137155908162,\n",
       " 'sympathy': 0.0008414472893376608,\n",
       " 'hygiene': 0.0016828945786753215,\n",
       " 'weather': 0.010457987738910927,\n",
       " 'anonymity': 0.0,\n",
       " 'trust': 0.002103618223344152,\n",
       " 'ancient': 0.0009616540449573266,\n",
       " 'deception': 0.00030051688904916455,\n",
       " 'fabric': 0.0010217574227671595,\n",
       " 'air_travel': 0.002584445245822815,\n",
       " 'fight': 0.0004207236446688304,\n",
       " 'dominant_personality': 0.00024041351123933166,\n",
       " 'music': 0.003485995912970309,\n",
       " 'vehicle': 0.0019233080899146533,\n",
       " 'politeness': 0.0009015506671474937,\n",
       " 'toy': 0.001382377689626157,\n",
       " 'farming': 0.0012621709340064912,\n",
       " 'meeting': 0.001322274311816324,\n",
       " 'war': 0.00018031013342949875,\n",
       " 'speaking': 0.0031854790239211443,\n",
       " 'listen': 0.005469407380694795,\n",
       " 'urban': 0.0009015506671474937,\n",
       " 'shopping': 0.0011419641783868254,\n",
       " 'disgust': 6.0103377809832915e-05,\n",
       " 'fire': 0.0018031013342949874,\n",
       " 'tool': 0.00012020675561966583,\n",
       " 'phone': 0.0016828945786753215,\n",
       " 'gain': 0.0003606202668589975,\n",
       " 'sound': 0.002584445245822815,\n",
       " 'injury': 0.001322274311816324,\n",
       " 'sailing': 0.005589614136314461,\n",
       " 'rage': 0.00012020675561966583,\n",
       " 'science': 0.00030051688904916455,\n",
       " 'work': 0.0012621709340064912,\n",
       " 'appearance': 0.002764755379252314,\n",
       " 'valuable': 0.0004207236446688304,\n",
       " 'warmth': 0.0045678567135473015,\n",
       " 'youth': 0.0032455824017309774,\n",
       " 'sadness': 0.0016227912008654887,\n",
       " 'fun': 0.002043514845534319,\n",
       " 'emotional': 0.001382377689626157,\n",
       " 'joy': 0.0016828945786753215,\n",
       " 'affection': 0.003485995912970309,\n",
       " 'traveling': 0.006491164803461955,\n",
       " 'fashion': 0.001382377689626157,\n",
       " 'ugliness': 6.0103377809832915e-05,\n",
       " 'lust': 0.0024041351123933164,\n",
       " 'shame': 0.003425892535160476,\n",
       " 'torment': 6.0103377809832915e-05,\n",
       " 'economics': 0.0005409304002884963,\n",
       " 'anger': 0.00012020675561966583,\n",
       " 'politics': 0.00012020675561966583,\n",
       " 'ship': 0.0030051688904916456,\n",
       " 'clothing': 0.002584445245822815,\n",
       " 'car': 0.001322274311816324,\n",
       " 'strength': 0.001322274311816324,\n",
       " 'technology': 0.0003606202668589975,\n",
       " 'breaking': 0.0011419641783868254,\n",
       " 'shape_and_size': 0.004087029691068638,\n",
       " 'power': 0.0005409304002884963,\n",
       " 'white_collar_job': 0.0003606202668589975,\n",
       " 'animal': 0.0015626878230556556,\n",
       " 'party': 0.0075129222262291144,\n",
       " 'terrorism': 6.0103377809832915e-05,\n",
       " 'smell': 0.004207236446688304,\n",
       " 'disappointment': 0.00030051688904916455,\n",
       " 'poor': 0.00012020675561966583,\n",
       " 'plant': 0.006431061425652121,\n",
       " 'pain': 0.003966822935448972,\n",
       " 'beauty': 0.015807188363986056,\n",
       " 'timidity': 0.0009616540449573266,\n",
       " 'philosophy': 0.00012020675561966583,\n",
       " 'negotiate': 0.00012020675561966583,\n",
       " 'negative_emotion': 0.004387546580117803,\n",
       " 'cleaning': 0.002644548623632648,\n",
       " 'messaging': 0.001382377689626157,\n",
       " 'competing': 0.000661137155908162,\n",
       " 'law': 0.00030051688904916455,\n",
       " 'friends': 0.007693232359658613,\n",
       " 'payment': 0.0004808270224786633,\n",
       " 'achievement': 0.001983411467724486,\n",
       " 'alcohol': 0.0005409304002884963,\n",
       " 'liquid': 0.00144248106743599,\n",
       " 'feminine': 0.0094963336939536,\n",
       " 'weapon': 0.0004808270224786633,\n",
       " 'children': 0.006731578314701286,\n",
       " 'monster': 0.00012020675561966583,\n",
       " 'ocean': 0.005409304002884962,\n",
       " 'giving': 0.0012621709340064912,\n",
       " 'contentment': 0.00432744320230797,\n",
       " 'writing': 0.0009616540449573266,\n",
       " 'rural': 0.002764755379252314,\n",
       " 'positive_emotion': 0.007152301959370117,\n",
       " 'musical': 0.002103618223344152}"
      ]
     },
     "execution_count": 20,
     "metadata": {},
     "output_type": "execute_result"
    }
   ],
   "source": [
    "from empath import Empath\n",
    "lexicon = Empath()\n",
    "\n",
    "lexicon.analyze(raw, normalize=True)"
   ]
  },
  {
   "cell_type": "code",
   "execution_count": 21,
   "metadata": {},
   "outputs": [
    {
     "data": {
      "text/plain": [
       "{'social': 0.0}"
      ]
     },
     "execution_count": 21,
     "metadata": {},
     "output_type": "execute_result"
    }
   ],
   "source": [
    "lexicon.analyze(raw, categories=[\"social\"])"
   ]
  },
  {
   "cell_type": "code",
   "execution_count": 22,
   "metadata": {},
   "outputs": [
    {
     "data": {
      "text/plain": [
       "{'beauty': 263.0}"
      ]
     },
     "execution_count": 22,
     "metadata": {},
     "output_type": "execute_result"
    }
   ],
   "source": [
    "lexicon.analyze(raw, categories=[\"beauty\"])"
   ]
  },
  {
   "cell_type": "code",
   "execution_count": null,
   "metadata": {},
   "outputs": [],
   "source": []
  }
 ],
 "metadata": {
  "kernelspec": {
   "display_name": "Python 3",
   "language": "python",
   "name": "python3"
  },
  "language_info": {
   "codemirror_mode": {
    "name": "ipython",
    "version": 3
   },
   "file_extension": ".py",
   "mimetype": "text/x-python",
   "name": "python",
   "nbconvert_exporter": "python",
   "pygments_lexer": "ipython3",
   "version": "3.7.6"
  }
 },
 "nbformat": 4,
 "nbformat_minor": 2
}
