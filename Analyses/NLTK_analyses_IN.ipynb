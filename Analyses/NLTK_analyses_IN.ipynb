{
 "cells": [
  {
   "cell_type": "markdown",
   "metadata": {},
   "source": [
    "# First try at NLTK analyses of the non-excluded beauty descriptions from India\n",
    "Useful reseource for basic operations: https://www.nltk.org/book/\n",
    "\n",
    "For other processing steps: https://chrisalbon.com/machine_learning/preprocessing_text/remove_stop_words/"
   ]
  },
  {
   "cell_type": "code",
   "execution_count": 1,
   "metadata": {},
   "outputs": [],
   "source": [
    "import nltk, re, pprint\n",
    "from nltk import word_tokenize"
   ]
  },
  {
   "cell_type": "markdown",
   "metadata": {},
   "source": [
    "Read the text"
   ]
  },
  {
   "cell_type": "code",
   "execution_count": 2,
   "metadata": {},
   "outputs": [],
   "source": [
    "f = open('beauty_descriptions_IN.txt', 'r')\n",
    "raw = f.read()"
   ]
  },
  {
   "cell_type": "markdown",
   "metadata": {},
   "source": [
    "Tokenize, convert to text, set to lowercase, grab total vocabulary"
   ]
  },
  {
   "cell_type": "code",
   "execution_count": 3,
   "metadata": {},
   "outputs": [],
   "source": [
    "tokens = word_tokenize(raw)\n",
    "text = nltk.Text(tokens)\n",
    "\n",
    "sentences = nltk.sent_tokenize(raw)\n",
    "sentences = [nltk.word_tokenize(sent) for sent in sentences]\n",
    "sentences = [nltk.pos_tag(sent) for sent in sentences]\n",
    "\n",
    "words = [w.lower() for w in tokens]\n",
    "vocab = sorted(set(words))"
   ]
  },
  {
   "cell_type": "markdown",
   "metadata": {},
   "source": [
    "Clean the text"
   ]
  },
  {
   "cell_type": "code",
   "execution_count": 4,
   "metadata": {},
   "outputs": [],
   "source": [
    "from nltk.corpus import stopwords\n",
    "stop_words = stopwords.words('english')\n",
    "punctuation = ['.',',','!',';','(',')']\n",
    "clean_text = nltk.Text([word for word in words if word not in stop_words and word not in punctuation])"
   ]
  },
  {
   "cell_type": "markdown",
   "metadata": {},
   "source": [
    "## Look for patterns, keywords, bigrams\n",
    "It seems like there is a pre-built package that extracts key words/phrases from a text. https://pypi.org/project/rake-nltk/. However, I do not find that their extracted ranking makes any sense. It merely seems to capture alphabetical order?\n",
    "\n",
    "I think, we can for now just get away with a frequency count, discounting stop words.\n",
    "\n",
    "Let's look at similar words, and co-occurring words. \n",
    "\n",
    "*Note:* It seems like we do not have enough data for finding similar words once we stripped off stopwords and the like. "
   ]
  },
  {
   "cell_type": "code",
   "execution_count": 5,
   "metadata": {},
   "outputs": [
    {
     "name": "stdout",
     "output_type": "stream",
     "text": [
      "day ngo surprise\n"
     ]
    }
   ],
   "source": [
    "# find words that are similar to both beauty and beautiful\n",
    "# logic: what applies to both gets rid of random co-occurrences more so than just the function alone\n",
    "# NOTE that .similar() and .similar_words do produce different outputs, so it is useful to look at both\n",
    "# However, we can only autmatically look at the overlap between outputs for beauty and beautiful using similar_words\n",
    "text.similar('joy')\n",
    "\n",
    "# \n",
    "sim_beauty = text._word_context_index.similar_words(\"beauty\")"
   ]
  },
  {
   "cell_type": "code",
   "execution_count": 6,
   "metadata": {},
   "outputs": [
    {
     "name": "stdout",
     "output_type": "stream",
     "text": [
      "['beautiful', 'gift', 'that', 'flowers', 'plants', 'mystery', 'everyone', 'travel']\n"
     ]
    }
   ],
   "source": [
    "print(sim_beauty)"
   ]
  },
  {
   "cell_type": "code",
   "execution_count": 7,
   "metadata": {},
   "outputs": [
    {
     "data": {
      "text/plain": [
       "[('beautiful', 33),\n",
       " ('felt', 23),\n",
       " ('feel', 21),\n",
       " ('day', 21),\n",
       " ('beauty', 21),\n",
       " ('time', 21),\n",
       " ('like', 20),\n",
       " ('experience', 20),\n",
       " ('life', 20),\n",
       " ('place', 19),\n",
       " ('one', 18),\n",
       " ('saw', 16),\n",
       " ('happy', 15),\n",
       " ('went', 15),\n",
       " ('years', 14)]"
      ]
     },
     "execution_count": 7,
     "metadata": {},
     "output_type": "execute_result"
    }
   ],
   "source": [
    "from nltk import FreqDist\n",
    "\n",
    "fdist_words = FreqDist(clean_text)\n",
    "fdist_words.most_common(15)"
   ]
  },
  {
   "cell_type": "code",
   "execution_count": 8,
   "metadata": {},
   "outputs": [
    {
     "data": {
      "text/plain": [
       "[(('beauty', 'experience'), 7),\n",
       " (('years', 'back'), 6),\n",
       " (('felt', 'like'), 5),\n",
       " (('beautiful', 'experience'), 5),\n",
       " (('ca', \"n't\"), 4),\n",
       " (('back', 'went'), 3),\n",
       " (('beauty', 'life'), 3),\n",
       " (('years', 'old'), 3),\n",
       " (('like', 'heaven'), 3),\n",
       " (('one', 'day'), 3)]"
      ]
     },
     "execution_count": 8,
     "metadata": {},
     "output_type": "execute_result"
    }
   ],
   "source": [
    "# bigram freq - use this rather than mere 'collocations' because here we do get a proper frequency count.\n",
    "bigrm = nltk.bigrams(clean_text)\n",
    "fdist_bigrams = FreqDist(bigrm)\n",
    "fdist_bigrams.most_common(10)"
   ]
  },
  {
   "cell_type": "markdown",
   "metadata": {},
   "source": [
    "## use empath package for LIWC like analyses"
   ]
  },
  {
   "cell_type": "code",
   "execution_count": 9,
   "metadata": {},
   "outputs": [
    {
     "ename": "ModuleNotFoundError",
     "evalue": "No module named 'empath'",
     "output_type": "error",
     "traceback": [
      "\u001b[0;31m---------------------------------------------------------------------------\u001b[0m",
      "\u001b[0;31mModuleNotFoundError\u001b[0m                       Traceback (most recent call last)",
      "\u001b[0;32m<ipython-input-9-042cf3ba8016>\u001b[0m in \u001b[0;36m<module>\u001b[0;34m\u001b[0m\n\u001b[0;32m----> 1\u001b[0;31m \u001b[0;32mfrom\u001b[0m \u001b[0mempath\u001b[0m \u001b[0;32mimport\u001b[0m \u001b[0mEmpath\u001b[0m\u001b[0;34m\u001b[0m\u001b[0;34m\u001b[0m\u001b[0m\n\u001b[0m\u001b[1;32m      2\u001b[0m \u001b[0mlexicon\u001b[0m \u001b[0;34m=\u001b[0m \u001b[0mEmpath\u001b[0m\u001b[0;34m(\u001b[0m\u001b[0;34m)\u001b[0m\u001b[0;34m\u001b[0m\u001b[0;34m\u001b[0m\u001b[0m\n\u001b[1;32m      3\u001b[0m \u001b[0;34m\u001b[0m\u001b[0m\n\u001b[1;32m      4\u001b[0m \u001b[0mlexicon\u001b[0m\u001b[0;34m.\u001b[0m\u001b[0manalyze\u001b[0m\u001b[0;34m(\u001b[0m\u001b[0mraw\u001b[0m\u001b[0;34m,\u001b[0m \u001b[0mnormalize\u001b[0m\u001b[0;34m=\u001b[0m\u001b[0;32mTrue\u001b[0m\u001b[0;34m)\u001b[0m\u001b[0;34m\u001b[0m\u001b[0;34m\u001b[0m\u001b[0m\n",
      "\u001b[0;31mModuleNotFoundError\u001b[0m: No module named 'empath'"
     ]
    }
   ],
   "source": [
    "from empath import Empath\n",
    "lexicon = Empath()\n",
    "\n",
    "lexicon.analyze(raw, normalize=True)"
   ]
  },
  {
   "cell_type": "code",
   "execution_count": null,
   "metadata": {},
   "outputs": [],
   "source": []
  }
 ],
 "metadata": {
  "kernelspec": {
   "display_name": "Python 3",
   "language": "python",
   "name": "python3"
  },
  "language_info": {
   "codemirror_mode": {
    "name": "ipython",
    "version": 3
   },
   "file_extension": ".py",
   "mimetype": "text/x-python",
   "name": "python",
   "nbconvert_exporter": "python",
   "pygments_lexer": "ipython3",
   "version": "3.7.6"
  }
 },
 "nbformat": 4,
 "nbformat_minor": 2
}
